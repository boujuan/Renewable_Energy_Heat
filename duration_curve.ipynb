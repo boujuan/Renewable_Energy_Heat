{
 "cells": [
  {
   "cell_type": "code",
   "execution_count": null,
   "id": "87319ac7",
   "metadata": {
    "scrolled": true
   },
   "outputs": [],
   "source": [
    "import matplotlib.pyplot as plt\n",
    "import numpy as np\n",
    "\n",
    "# Sample hourly cooling load data (replace this with your own data)\n",
    "cooling_load_data = [1.7, 2, 4.5, 9.1, 13.3, 16.3, 18.5, 18.1, 14.9, 10.5, 6, 3] # in °C\n",
    "\n",
    "# Sort the data in descending order\n",
    "sorted_data = sorted(cooling_load_data, reverse=True)\n",
    "\n",
    "# Calculate cumulative hours\n",
    "total_months = 12  # Total months in a year\n",
    "cumulative_hours = np.arange(1, total_months + 1)\n",
    "\n",
    "# Plot the duration curve\n",
    "plt.plot(cumulative_hours, sorted_data, label='Duration Curve')\n",
    "plt.xlabel('Months of the Year')\n",
    "plt.ylabel('Ambient Temperatures (°C)')\n",
    "plt.title('Cooling Duration Curve')\n",
    "plt.legend()\n",
    "plt.grid(True)\n",
    "plt.show()\n"
   ]
  }
 ],
 "metadata": {
  "kernelspec": {
   "display_name": "Python 3 (ipykernel)",
   "language": "python",
   "name": "python3"
  },
  "language_info": {
   "codemirror_mode": {
    "name": "ipython",
    "version": 3
   },
   "file_extension": ".py",
   "mimetype": "text/x-python",
   "name": "python",
   "nbconvert_exporter": "python",
   "pygments_lexer": "ipython3",
   "version": "3.11.5"
  }
 },
 "nbformat": 4,
 "nbformat_minor": 5
}
