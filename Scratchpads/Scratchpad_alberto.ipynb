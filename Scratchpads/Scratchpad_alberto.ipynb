{
 "cells": [
  {
   "cell_type": "code",
   "execution_count": null,
   "id": "40048ee6-f2f2-40be-ac13-59e336f391ed",
   "metadata": {},
   "outputs": [],
   "source": [
    "from CoolProp.CoolProp import PropsSI\n",
    "import numpy as np\n",
    "import pandas as pd\n",
    "import matplotlib.pyplot as plt\n",
    "from matplotlib import cm\n",
    "from fluprodia import FluidPropertyDiagram"
   ]
  },
  {
   "cell_type": "code",
   "execution_count": null,
   "id": "c6355267",
   "metadata": {},
   "outputs": [],
   "source": [
    "def heat_power_demand(thermal_cond, thickness, insulator_area, desired_temperature, unpowered_temperature):\n",
    "    heat_transfer_coeff = thermal_cond / thickness # U = k/L\n",
    "    delta_temperature = desired_temperature - unpowered_temperature\n",
    "    heat_demand = heat_transfer_coeff * insulator_area * delta_temperature\n",
    "    return heat_demand\n",
    "\n",
    "thermal_cond_material = {\n",
    "    \"Polyurethane Foam\":0.022,\n",
    "    \"Reinforced concrete\":2.3,\n",
    "    \"Concrete\":0.11\n",
    "}\n",
    "\n",
    "room_size = [3,2,2] # m x,y,z\n",
    "outside_temp = 15 + 273.15 # C\n",
    "desired_temp = -10 + 273.15 # C\n",
    "wall_thickness = 15 # cm\n",
    "floor_thickness = 100 # cm\n",
    "\n",
    "walls_area = room_size[0]*room_size[2]*2 + room_size[1]*room_size[2]\n",
    "floor_area = room_size[0]*room_size[1]*2\n",
    "total_area = walls_area + floor_area # m^2\n",
    "\n",
    "hpd = heat_power_demand(thermal_cond_material[\"Polyurethane Foam\"], wall_thickness/100, total_area, desired_temp, outside_temp)\n",
    "print(f\"Heat power demand: {hpd} kW\")"
   ]
  },
  {
   "cell_type": "markdown",
   "id": "54ab27ea",
   "metadata": {},
   "source": [
    "Let's create a function that calculates the evaporators heat, the power and the cop:"
   ]
  },
  {
   "cell_type": "code",
   "execution_count": null,
   "id": "5bdb7c79",
   "metadata": {},
   "outputs": [],
   "source": [
    "def cop_and_heat_calculations(fluid, temp_2, temp_4, efficiency_compressor, heat_evap):\n",
    "    s_2 = PropsSI(\"S\", \"T\", temp_2, \"Q\", 1, fluid)\n",
    "    h_2 = PropsSI(\"H\", \"T\", temp_2, \"Q\", 1, fluid)\n",
    "    press_2 = PropsSI(\"P\", \"T\", temp_2, \"Q\", 1, fluid)\n",
    "    press_4 = PropsSI(\"P\", \"T\", temp_4, \"Q\", 0, fluid)\n",
    "    press_3 = press_4 # pressure remains same after compressor / before expansion\n",
    "\n",
    "    h_3s = PropsSI(\"H\", \"S\", s_2, \"P\", press_3, fluid)\n",
    "    h_3 = h_2 + (h_3s - h_2) / efficiency_compressor # enthalpy considering compressor efficiency\n",
    "\n",
    "    h_4 = PropsSI(\"H\", \"T\", temp_4, \"Q\", 0, fluid)\n",
    "    h_1 = h_4 # enthalpy remains constant in expansion. refer to ph graph\n",
    "    press_1 = press_2 # pressure remains constant in evaporation.\n",
    "\n",
    "    # no calculamos s_1, s_3, s_4, t_1, t_3\n",
    "\n",
    "    m = heat_evap / abs(h_2 - h_1) # mass flow rate kg/s. Are these enthalpies correct? or should we get h_4, h_3\n",
    "    power = m * abs(h_3 - h_2) # compressor power\n",
    "    cop = abs(heat_evap) / power\n",
    "    heat_cond = abs(heat_evap) - power\n",
    "\n",
    "    cop_carnot = temp_2 / abs(temp_2 - temp_4)\n",
    "    efficiency_hp = cop / cop_carnot\n",
    "\n",
    "    return m, power, cop, heat_cond, cop_carnot, efficiency_hp\n"
   ]
  },
  {
   "cell_type": "markdown",
   "id": "1fef964a",
   "metadata": {},
   "source": [
    "Let's select some of the necessary parameters for our study:"
   ]
  },
  {
   "cell_type": "code",
   "execution_count": null,
   "id": "42c18578",
   "metadata": {},
   "outputs": [],
   "source": [
    "# Change 'outside_temp' to hamburg.average_yearly_temp from 'climate data' class from Juan\n",
    "outside_temp = 15 + 273.15 # C\n",
    "desired_temp = -18 + 273.15 # C\n",
    "\n",
    "cond_temp = outside_temp + 20\n",
    "evap_temp = desired_temp - 10\n",
    "\n",
    "evap_temp_list = np.arange(evap_temp - 10 , evap_temp + 10 , 2)\n",
    "cond_temp_list = np.arange(cond_temp - 10 , cond_temp + 10 , 2)\n",
    "\n",
    "refr_fluid = \"R290\" #\"R134a\"\n",
    "efficiency_compressor = 0.8 # Efficiency assumed to be 80%\n",
    "heat_evap = 2e5 # Nominal heat power (W)"
   ]
  },
  {
   "cell_type": "markdown",
   "id": "d39a8273",
   "metadata": {},
   "source": [
    "Let's calculate and plot the COP for different evaporation and condensation temperatures:"
   ]
  },
  {
   "cell_type": "code",
   "execution_count": null,
   "id": "40ef9ce8",
   "metadata": {},
   "outputs": [],
   "source": [
    "# Calculating COP vs Condensated Temps:\n",
    "mass_sec, pow, cop, heat_condensator, cop_ca, eff_hp = cop_and_heat_calculations(\n",
    "    refr_fluid, evap_temp, cond_temp_list, efficiency_compressor, heat_evap\n",
    ")\n",
    "\n",
    "# Plotting results condensator changing temps:\n",
    "plt.plot(cond_temp_list - 273.15, cop, label='COP')\n",
    "plt.plot(cond_temp_list - 273.15, cop_ca, label='COP carnot',linestyle='--')\n",
    "plt.plot(cond_temp_list - 273.15, eff_hp, label='Eff. refrigerator',linestyle=':')\n",
    "plt.xlabel('Condensator T [°C]')\n",
    "plt.ylabel('COP')\n",
    "plt.title('COP vs Condensator T')"
   ]
  },
  {
   "cell_type": "code",
   "execution_count": null,
   "id": "aa2dfbf3",
   "metadata": {},
   "outputs": [],
   "source": [
    "# Calculating COP vs Evaporator Temps:\n",
    "mass_sec_ev, pow_ev, cop_ev, heat_condensator_ev, cop_ca_ev, eff_hp_ev = cop_and_heat_calculations(\n",
    "    refr_fluid, evap_temp_list, cond_temp, efficiency_compressor, heat_evap\n",
    ")\n",
    "\n",
    "# Plotting results evaporator changing temps:\n",
    "plt.plot(evap_temp_list - 273.15, cop_ev, label='COP')\n",
    "plt.plot(evap_temp_list - 273.15, cop_ca_ev, label='COP carnot',linestyle='--')\n",
    "plt.plot(evap_temp_list - 273.15, eff_hp_ev, label='Eff. refrigerator',linestyle=':')\n",
    "\n",
    "plt.xlabel('Evaporator T [°C]')\n",
    "plt.ylabel('COP')\n",
    "plt.title('COP vs Evaporator T')"
   ]
  },
  {
   "cell_type": "markdown",
   "id": "8b29f6c4",
   "metadata": {},
   "source": [
    "Now, let's plot both the condensated T° and the evaporated T° in the same 3D graph to compare results:"
   ]
  },
  {
   "cell_type": "code",
   "execution_count": null,
   "id": "a0b2d7fb",
   "metadata": {},
   "outputs": [],
   "source": [
    "param_cop = pd.DataFrame(\n",
    "    index=evap_temp_list, \n",
    "    columns=cond_temp_list\n",
    ")\n",
    "\n",
    "for ev_temp in evap_temp_list:\n",
    "    _, _, cop, _, _, _ = cop_and_heat_calculations(\n",
    "        refr_fluid, \n",
    "        ev_temp, \n",
    "        cond_temp_list, \n",
    "        efficiency_compressor, \n",
    "        heat_evap\n",
    "    )\n",
    "    param_cop.loc[ev_temp] = cop\n",
    "\n",
    "param_cop\n",
    "\n",
    "# Plot 3D Figure:\n",
    "fig, ax = plt.subplots(1, figsize=(12, 7.5), subplot_kw={\"projection\": \"3d\"})\n",
    "\n",
    "X, Y = np.meshgrid(cond_temp_list - 273.15, evap_temp_list - 273.15)\n",
    "\n",
    "surf = ax.plot_surface(X, Y, param_cop.values, cmap=cm.coolwarm, linewidth=0, antialiased=False)\n",
    "\n",
    "ax.set_xlabel(\"Condensator temperature [°C]\")\n",
    "ax.set_ylabel(\"Evaporator temperature [°C]\")\n",
    "ax.set_zlabel(\"COP\")\n",
    "ax.view_init(elev=30, azim=225)\n",
    "ax.set_box_aspect(aspect=None, zoom=0.9)\n",
    "fig.colorbar(surf, shrink=0.5, aspect=15)\n",
    "plt.tight_layout()"
   ]
  },
  {
   "cell_type": "markdown",
   "id": "da4e1f9f",
   "metadata": {},
   "source": [
    "Let's try plot the P-H Diagram:"
   ]
  },
  {
   "cell_type": "code",
   "execution_count": null,
   "id": "49906f6b",
   "metadata": {},
   "outputs": [],
   "source": [
    "\n",
    "def press_and_enthalpy_calc(fluid, temp_2, temp_4, efficiency_compressor, heat_evap):\n",
    "    s_2 = PropsSI(\"S\", \"T\", temp_2, \"Q\", 1, fluid)\n",
    "    h_2 = PropsSI(\"H\", \"T\", temp_2, \"Q\", 1, fluid)\n",
    "    press_2 = PropsSI(\"P\", \"T\", temp_2, \"Q\", 1, fluid)\n",
    "    press_4 = PropsSI(\"P\", \"T\", temp_4, \"Q\", 0, fluid)\n",
    "    press_3 = press_4 # pressure remains same after compressor / before expansion\n",
    "\n",
    "    h_3s = PropsSI(\"H\", \"S\", s_2, \"P\", press_3, fluid)\n",
    "    h_3 = h_2 + (h_3s - h_2) / efficiency_compressor # enthalpy considering compressor efficiency\n",
    "\n",
    "    h_4 = PropsSI(\"H\", \"T\", temp_4, \"Q\", 0, fluid)\n",
    "    h_1 = h_4 # enthalpy remains constant in expansion. refer to ph graph\n",
    "    press_1 = press_2 # pressure remains constant in evaporation.\n",
    "\n",
    "    # no calculamos s_1, s_3, s_4, t_1, t_3\n",
    "\n",
    "    m = heat_evap / abs(h_2 - h_1) # mass flow rate kg/s. Are these enthalpies correct? or should we get h_4, h_3\n",
    "    power = m * abs(h_3 - h_2) # compressor power\n",
    "    cop = abs(heat_evap) / power\n",
    "    heat_cond = abs(heat_evap) - power\n",
    "    \n",
    "    return h_1, h_2, h_3, h_4, press_1, press_2, press_3, press_4\n",
    "\n",
    "h_1, h_2, h_3, h_4, press_1, press_2, press_3, press_4 = press_and_enthalpy_calc(\n",
    "    refr_fluid, evap_temp, cond_temp, efficiency_compressor, heat_evap\n",
    ")\n",
    "\n",
    "p_range = np.geomspace(PropsSI(\"P\", \"T\", 273.15 -30, \"Q\", 0, refr_fluid), PropsSI(\"PCRIT\", refr_fluid))\n",
    "boiling_line = PropsSI(\"H\", \"P\", p_range, \"Q\", 0, refr_fluid) / 1e3\n",
    "dew_line = PropsSI(\"H\", \"P\", p_range, \"Q\", 1, refr_fluid) / 1e3\n",
    "\n",
    "fig, ax = plt.subplots(1, figsize=(12, 6))\n",
    "\n",
    "ax.set_yscale(\"log\")\n",
    "ax.plot(boiling_line, p_range, color=\"#000\")\n",
    "ax.plot(dew_line, p_range, color=\"#000\")\n",
    "\n",
    "ax.scatter([h / 1e3 for h in [h_1, h_2, h_3, h_4]], [press_1, press_2, press_3, press_4])\n",
    "ax.plot([h / 1e3 for h in [h_1, h_2, h_3, h_4, h_1]], [press_1, press_2, press_3, press_4, press_1])\n",
    "\n",
    "ax.set_ylabel(\"pressure in Pa\")\n",
    "ax.set_xlabel(\"enthalpy in kJ/kg\")\n",
    "\n",
    "_x_lims = ax.get_xlim()\n",
    "_y_lims = ax.get_ylim()\n",
    "\n",
    "\n",
    "plt.tight_layout()"
   ]
  },
  {
   "cell_type": "markdown",
   "id": "d4351c19",
   "metadata": {},
   "source": [
    "Let's try now to plot the P-H diagram using a specialized library called 'fluprodia':"
   ]
  },
  {
   "cell_type": "code",
   "execution_count": null,
   "id": "ddaca063",
   "metadata": {},
   "outputs": [],
   "source": [
    "diagram = FluidPropertyDiagram(refr_fluid)\n",
    "diagram.set_unit_system(T=\"°C\", h=\"kJ/kg\")\n",
    "diagram.set_isolines(T=np.arange(-25, 101, 25), s=np.arange(1250, 3001, 250), h=np.arange(100, 801, 100))\n",
    "diagram.calc_isolines()\n",
    "\n",
    "\n",
    "fig, ax = plt.subplots(1, figsize=(12, 6))\n",
    "\n",
    "diagram.draw_isolines(fig, ax, \"logph\", _x_lims[0], _x_lims[1], _y_lims[0], _y_lims[1])\n",
    "#ax.scatter([h / 1e3 for h in [h_1, h_2, h_3, h_4]], [p_1, p_2, p_3, p_4])\n",
    "#ax.plot([h / 1e3 for h in [h_1, h_2, h_3, h_4, h_1]], [p_1, p_2, p_3, p_4, p_1])\n",
    "ax.scatter([h / 1e3 for h in [h_1, h_2, h_3, h_4]], [press_1, press_2, press_3, press_4])\n",
    "ax.plot([h / 1e3 for h in [h_1, h_2, h_3, h_4, h_1]], [press_1, press_2, press_3, press_4, press_1])\n",
    "\n",
    "ax.set_ylabel(\"pressure in Pa\")\n",
    "ax.set_xlabel(\"enthalpy in kJ/kg\")\n",
    "\n",
    "plt.tight_layout()"
   ]
  },
  {
   "cell_type": "markdown",
   "id": "92935b9b",
   "metadata": {},
   "source": [
    "Now let's create a T-S diagram using fluprodia:"
   ]
  },
  {
   "cell_type": "code",
   "execution_count": null,
   "id": "8e33c674",
   "metadata": {},
   "outputs": [],
   "source": [
    "fig, ax = plt.subplots(1, figsize=(12, 6))\n",
    "\n",
    "diagram.draw_isolines(fig, ax, \"Ts\", 1000, 2500, -40, 125)\n",
    "\n",
    "t = []\n",
    "s = []\n",
    "for p, h in zip([press_1, press_2, press_3, press_4], [h_1, h_2, h_3, h_4]):\n",
    "    t += [PropsSI(\"T\", \"P\", p, \"H\", h, refr_fluid) - 273.15]\n",
    "    s += [PropsSI(\"S\", \"P\", p, \"H\", h, refr_fluid)]\n",
    "\n",
    "ax.scatter(s, t)\n",
    "\n",
    "lines = {\n",
    "    \"12\": {\n",
    "        \"isoline_property\": \"p\",\n",
    "        \"isoline_value\": press_1,\n",
    "        \"starting_point_property\": \"h\",\n",
    "        \"starting_point_value\": h_1 / 1e3,\n",
    "        \"ending_point_property\": \"h\",\n",
    "        \"ending_point_value\": h_2 / 1e3\n",
    "    },\n",
    "    \"23\": {\n",
    "        \"isoline_property\": \"s\",\n",
    "        \"isoline_value\": s[1],\n",
    "        \"isoline_value_end\": s[2],\n",
    "        \"starting_point_property\": \"p\",\n",
    "        \"starting_point_value\": press_2,\n",
    "        \"ending_point_property\": \"p\",\n",
    "        \"ending_point_value\": press_3\n",
    "    },\n",
    "    \"34\": {\n",
    "        \"isoline_property\": \"p\",\n",
    "        \"isoline_value\": press_3,\n",
    "        \"starting_point_property\": \"h\",\n",
    "        \"starting_point_value\": h_3 / 1e3,\n",
    "        \"ending_point_property\": \"h\",\n",
    "        \"ending_point_value\": h_4 / 1e3\n",
    "    },\n",
    "    \"41\": {\n",
    "        \"isoline_property\": \"h\",\n",
    "        \"isoline_value\": h_4 / 1e3,\n",
    "        \"starting_point_property\": \"p\",\n",
    "        \"starting_point_value\": press_4,\n",
    "        \"ending_point_property\": \"p\",\n",
    "        \"ending_point_value\": press_1\n",
    "    },\n",
    "}\n",
    "\n",
    "for line in lines.values():\n",
    "    line_data = diagram.calc_individual_isoline(**line)\n",
    "    ax.plot(line_data[\"s\"], line_data[\"T\"], color=\"#FF0000\")\n",
    "\n",
    "ax.set_ylabel(\"temperature in °C\")\n",
    "ax.set_xlabel(\"entropy in J/kgK\")\n",
    "plt.tight_layout()"
   ]
  },
  {
   "cell_type": "markdown",
   "id": "6143df5f",
   "metadata": {},
   "source": [
    "We have now selected a specific compressor to use, therefore compressor power is now limited ??? kW.\n",
    "We would like to "
   ]
  }
 ],
 "metadata": {
  "kernelspec": {
   "display_name": "thermal-sys",
   "language": "python",
   "name": "python3"
  },
  "language_info": {
   "codemirror_mode": {
    "name": "ipython",
    "version": 3
   },
   "file_extension": ".py",
   "mimetype": "text/x-python",
   "name": "python",
   "nbconvert_exporter": "python",
   "pygments_lexer": "ipython3",
   "version": "3.11.5"
  }
 },
 "nbformat": 4,
 "nbformat_minor": 5
}
