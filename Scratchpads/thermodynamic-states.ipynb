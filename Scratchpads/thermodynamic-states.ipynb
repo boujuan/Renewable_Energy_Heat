{
 "cells": [
  {
   "cell_type": "code",
   "execution_count": 1,
   "id": "cdbb4843-d876-4d95-8dee-3eb40ee5965d",
   "metadata": {},
   "outputs": [],
   "source": [
    "from CoolProp.CoolProp import PropsSI"
   ]
  },
  {
   "cell_type": "markdown",
   "id": "6bc61c3d-e259-462b-b88e-d18953e66f86",
   "metadata": {},
   "source": [
    "Calculate density of R290 at 5 bar and 50 °C!\n",
    "\n",
    "PropsSI-function: PropsSI(Output-property, name-input-prop-1, value, name-input-pro-2, value, fluid-name)"
   ]
  },
  {
   "cell_type": "code",
   "execution_count": 2,
   "id": "ae0185eb-70db-492a-9c9a-73df7ae53041",
   "metadata": {},
   "outputs": [
    {
     "data": {
      "text/plain": [
       "8.772185179043303"
      ]
     },
     "execution_count": 2,
     "metadata": {},
     "output_type": "execute_result"
    }
   ],
   "source": [
    "PropsSI(\"D\", \"P\", 5 * 1e5, \"T\", 50 + 273.15, \"R290\")"
   ]
  },
  {
   "cell_type": "code",
   "execution_count": 3,
   "id": "3261b1f2-7e43-4ae0-ba13-76e6a882f5d0",
   "metadata": {},
   "outputs": [
    {
     "data": {
      "text/plain": [
       "3709607.9687474454"
      ]
     },
     "execution_count": 3,
     "metadata": {},
     "output_type": "execute_result"
    }
   ],
   "source": [
    "saturation_pressure = PropsSI(\"P\", \"T\", 75 + 273.15, \"Q\", 0, \"NH3\")\n",
    "saturation_pressure"
   ]
  },
  {
   "cell_type": "code",
   "execution_count": 10,
   "id": "ef9082af-1bba-45fe-9f52-478446f2f70e",
   "metadata": {},
   "outputs": [
    {
     "data": {
      "text/plain": [
       "718053.5205411207"
      ]
     },
     "execution_count": 10,
     "metadata": {},
     "output_type": "execute_result"
    }
   ],
   "source": [
    "PropsSI(\"H\", \"T\", 75 + 273.15, \"Q\", 0, \"NH3\")"
   ]
  },
  {
   "cell_type": "code",
   "execution_count": 15,
   "id": "cf01425a-2564-4d7b-8d09-4b3c8836d270",
   "metadata": {},
   "outputs": [
    {
     "data": {
      "text/plain": [
       "0.21862680244288843"
      ]
     },
     "execution_count": 15,
     "metadata": {},
     "output_type": "execute_result"
    }
   ],
   "source": [
    "enthalpy = PropsSI(\"H\", \"T\", 75 + 273.15, \"Q\", 0, \"NH3\")\n",
    "pressure_T_2 = PropsSI(\"P\", \"T\", 25 + 273.15, \"Q\", 0, \"NH3\")\n",
    "PropsSI(\"Q\", \"P\", pressure_T_2, \"H\", enthalpy, \"NH3\")"
   ]
  },
  {
   "cell_type": "code",
   "execution_count": 9,
   "id": "23edc2f2-a73a-4a7d-96d9-1129d5777c55",
   "metadata": {},
   "outputs": [
    {
     "data": {
      "text/plain": [
       "-1.8726984796693955"
      ]
     },
     "execution_count": 9,
     "metadata": {},
     "output_type": "execute_result"
    }
   ],
   "source": [
    "PropsSI(\"T\", \"P\", 4e5, \"Q\", 1, \"NH3\") - 273.15"
   ]
  },
  {
   "cell_type": "code",
   "execution_count": 16,
   "id": "ff6b0db3-59c0-4959-adcb-c2a5fd627f61",
   "metadata": {},
   "outputs": [
    {
     "data": {
      "text/plain": [
       "array([  2296.19643389,  25041.59808468, 143378.71294487])"
      ]
     },
     "execution_count": 16,
     "metadata": {},
     "output_type": "execute_result"
    }
   ],
   "source": [
    "PropsSI(\"P\", \"T\", [20 + 273-.15, 65 + 273.15, 110 + 273.15], \"Q\", 1, \"water\")"
   ]
  },
  {
   "cell_type": "code",
   "execution_count": 18,
   "id": "d708b980-114c-4b4f-9d1e-fe4efd975b34",
   "metadata": {},
   "outputs": [
    {
     "data": {
      "text/plain": [
       "1722.111223569184"
      ]
     },
     "execution_count": 18,
     "metadata": {},
     "output_type": "execute_result"
    }
   ],
   "source": [
    "s_1 =PropsSI(\"S\", \"Q\", 1, \"T\", 10 + 273.15, \"R134a\")\n",
    "s_1"
   ]
  },
  {
   "cell_type": "code",
   "execution_count": 21,
   "id": "30537e31-ba74-41f1-bb3b-2c1fd6c97f0c",
   "metadata": {},
   "outputs": [
    {
     "data": {
      "text/plain": [
       "35.02696941125066"
      ]
     },
     "execution_count": 21,
     "metadata": {},
     "output_type": "execute_result"
    }
   ],
   "source": [
    "p_1 = PropsSI(\"P\", \"Q\", 1, \"T\", 10 + 273.15, \"R134a\")\n",
    "p_2 = 2 * p_1\n",
    "PropsSI(\"T\", \"P\", p_2, \"S\", s_1, \"R134a\") - 273.14"
   ]
  },
  {
   "cell_type": "code",
   "execution_count": null,
   "id": "a4850b55-1abd-4828-bfae-1ff9486785d5",
   "metadata": {},
   "outputs": [],
   "source": []
  }
 ],
 "metadata": {
  "kernelspec": {
   "display_name": "Python 3 (ipykernel)",
   "language": "python",
   "name": "python3"
  },
  "language_info": {
   "codemirror_mode": {
    "name": "ipython",
    "version": 3
   },
   "file_extension": ".py",
   "mimetype": "text/x-python",
   "name": "python",
   "nbconvert_exporter": "python",
   "pygments_lexer": "ipython3",
   "version": "3.11.5"
  }
 },
 "nbformat": 4,
 "nbformat_minor": 5
}
