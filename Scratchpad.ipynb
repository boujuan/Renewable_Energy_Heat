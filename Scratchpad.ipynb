{
 "cells": [
  {
   "cell_type": "code",
   "execution_count": 1,
   "id": "40048ee6-f2f2-40be-ac13-59e336f391ed",
   "metadata": {},
   "outputs": [],
   "source": [
    "from CoolProp.CoolProp import PropsSI"
   ]
  },
  {
   "cell_type": "code",
   "execution_count": 2,
   "id": "c6355267",
   "metadata": {},
   "outputs": [
    {
     "name": "stdout",
     "output_type": "stream",
     "text": [
      "Heat power demand: -102.66666666666666 kW\n"
     ]
    }
   ],
   "source": [
    "def heat_power_demand(thermal_cond, thickness, insulator_area, desired_temperature, unpowered_temperature):\n",
    "    heat_transfer_coeff = thermal_cond / thickness # U = k/L\n",
    "    delta_temperature = desired_temperature - unpowered_temperature\n",
    "    heat_demand = heat_transfer_coeff * insulator_area * delta_temperature\n",
    "    return heat_demand\n",
    "\n",
    "thermal_cond_material = {\n",
    "    \"Polyurethane Foam\":0.022,\n",
    "    \"Reinforced concret\":2.3,\n",
    "    \"Concrete\":0.11\n",
    "}\n",
    "\n",
    "room_size = [3,2,2] # m x,y,z\n",
    "outside_temp = 15 + 273.15 # C\n",
    "desired_temp = -10 + 273.15 # C\n",
    "wall_thickness = 15 # cm\n",
    "floor_thickness = 100 # cm\n",
    "\n",
    "walls_area = room_size[0]*room_size[2]*2 + room_size[1]*room_size[2]\n",
    "floor_area = room_size[0]*room_size[1]*2\n",
    "total_area = walls_area + floor_area # m^2\n",
    "\n",
    "hpd = heat_power_demand(thermal_cond_material[\"Polyurethane Foam\"], wall_thickness/100, total_area, desired_temp, outside_temp)\n",
    "print(f\"Heat power demand: {hpd} kW\")"
   ]
  },
  {
   "cell_type": "code",
   "execution_count": 3,
   "metadata": {},
   "outputs": [],
   "source": [
    "\n",
    "cond_temp = outside_temp + 20\n",
    "evap_temp = desired_temp - 10"
   ]
  },
  {
   "cell_type": "code",
   "execution_count": 4,
   "id": "5809899e",
   "metadata": {},
   "outputs": [],
   "source": [
    "#PropsSI(\"H\", \"T\", evap_temp, \"Q\", 0, \"R290\")\n",
    "#PropsSI(\"H\", \"T\", -25, \"Q\", 0, \"R134a\")\n",
    "#PropsSI(\"H\", \"P\", 100000, \"Q\", 1, \"R134a\")"
   ]
  },
  {
   "cell_type": "code",
   "execution_count": 5,
   "id": "1d307773",
   "metadata": {},
   "outputs": [
    {
     "name": "stdout",
     "output_type": "stream",
     "text": [
      "t_2:  253.14999999999998\n",
      "t_4:  308.15\n",
      "2.7492250284433646\n",
      "72747.77362013242\n",
      "127252.22637986758\n"
     ]
    }
   ],
   "source": [
    "outside_temp = 15 + 273.15 # C\n",
    "desired_temp = -10 + 273.15 # C\n",
    "\n",
    "cond_temp = outside_temp + 20\n",
    "evap_temp = desired_temp - 10\n",
    "\n",
    "fluid = \"R290\"\n",
    "t_2 = evap_temp # T_evap (K)\n",
    "t_4 = cond_temp # T_cond (K)\n",
    "eta_s = 0.8 # Efficiency assumed to be 80%\n",
    "heat_evap = 2e5 # Nominal heat power (W)\n",
    "\n",
    "print(\"t_2: \",t_2)\n",
    "print(\"t_4: \",t_4)\n",
    "\n",
    "p_2 = PropsSI(\"P\", \"T\", t_2, \"Q\", 1, fluid)\n",
    "p_4 = PropsSI(\"P\", \"T\", t_4, \"Q\", 0, fluid)\n",
    "\n",
    "h_2 = PropsSI(\"H\", \"T\", t_2, \"Q\", 1, fluid)\n",
    "s_2 = PropsSI(\"S\", \"T\", t_2, \"Q\", 1, fluid)\n",
    "\n",
    "p_3 = p_4 # pressure remains same after compressor / before expansion\n",
    "h_3s = PropsSI(\"H\", \"S\", s_2, \"P\", p_3, fluid)\n",
    "h_3 = h_2 + (h_3s - h_2) / eta_s # enthalpy considering compressor efficiency\n",
    "\n",
    "h_4 = PropsSI(\"H\", \"T\", t_4, \"Q\", 0, fluid)\n",
    "h_1 = h_4 # enthalpy remains constant in expansion. refer to ph graph\n",
    "p_1 = p_2 # pressure remains constant in evaporation.\n",
    "\n",
    "# no calculamos s_1, s_3, s_4, t_1, t_3\n",
    "\n",
    "m = heat_evap / (h_2 - h_1) # mass flow rate kg/s. Are these enthalpies correct? or should we get h_4, h_3\n",
    "power = m * (h_3 - h_2) # compressor power\n",
    "cop = abs(heat_evap) / power\n",
    "heat_cond = abs(heat_evap) - power\n",
    "\n",
    "print(cop)\n",
    "print(power)\n",
    "print(heat_cond)"
   ]
  },
  {
   "cell_type": "code",
   "execution_count": 7,
   "metadata": {},
   "outputs": [
    {
     "name": "stdout",
     "output_type": "stream",
     "text": [
      "2.1219758825632935\n",
      "2.2308871431473407\n",
      "2.347255813436239\n",
      "2.4718386683844233\n",
      "2.605498814512353\n",
      "2.7492250284433646\n",
      "2.9041554746595724\n",
      "3.0716070045017045\n",
      "3.2531116310317105\n",
      "3.450462318096574\n"
     ]
    },
    {
     "data": {
      "text/plain": [
       "Text(0.5, 1.0, 'COP vs Evap T')"
      ]
     },
     "execution_count": 7,
     "metadata": {},
     "output_type": "execute_result"
    },
    {
     "data": {
      "image/png": "[encoded data removed]",
      "text/plain": [
       "<Figure size 640x480 with 1 Axes>"
      ]
     },
     "metadata": {},
     "output_type": "display_data"
    }
   ],
   "source": [
    "import matplotlib.pyplot as plt\n",
    "import numpy as np\n",
    "\n",
    "outside_temp = 15 + 273.15 # C\n",
    "desired_temp = -10 + 273.15 # C\n",
    "\n",
    "cond_temp = outside_temp + 20\n",
    "evap_temp = desired_temp - 10\n",
    "\n",
    "evap_temp_list = np.arange(evap_temp - 10 , evap_temp + 10 , 2)\n",
    "#cond_temp_list = np.arange(evap_temp - 10 , evap_temp + 10 , 2)\n",
    "cop_list = []\n",
    "#cond_temp = -20+273\n",
    "#print(*cond_temp_list)\n",
    "\n",
    "for evap_temp in (evap_temp_list):\n",
    "    fluid = \"R290\"\n",
    "    t_2 = evap_temp # T_evap (K)\n",
    "    t_4 = cond_temp # T_cond (K)\n",
    "    eta_s = 0.8 # Efficiency assumed to be 80%\n",
    "    heat_evap = 2e5 # Nominal heat power (W)\n",
    "\n",
    "    p_2 = PropsSI(\"P\", \"T\", t_2, \"Q\", 1, fluid)\n",
    "    p_4 = PropsSI(\"P\", \"T\", t_4, \"Q\", 0, fluid)\n",
    "\n",
    "    h_2 = PropsSI(\"H\", \"T\", t_2, \"Q\", 1, fluid)\n",
    "    s_2 = PropsSI(\"S\", \"T\", t_2, \"Q\", 1, fluid)\n",
    "\n",
    "    p_3 = p_4 # pressure remains same after compressor / before expansion\n",
    "    h_3s = PropsSI(\"H\", \"S\", s_2, \"P\", p_3, fluid)\n",
    "    h_3 = h_2 + (h_3s - h_2) / eta_s # enthalpy considering compressor efficiency\n",
    "\n",
    "    h_4 = PropsSI(\"H\", \"T\", t_4, \"Q\", 0, fluid)\n",
    "    h_1 = h_4 # enthalpy remains constant in expansion. refer to ph graph\n",
    "    # p_1 = p_2 # pressure remains constant in evaporation.\n",
    "\n",
    "    # no calculamos s_1, s_3, s_4, t_1, t_3\n",
    "\n",
    "    m = heat_evap / abs(h_2 - h_1) # mass flow rate kg/s. Are these enthalpies correct? or should we get h_4, h_3\n",
    "    power = m * abs(h_3 - h_2) # compressor power\n",
    "    cop = abs(heat_evap) / power\n",
    "    heat_cond = abs(heat_evap) - power\n",
    "\n",
    "    print(cop)\n",
    "    #print(power)\n",
    "    #print(heat_cond)\n",
    "    cop_list.append(cop)\n",
    "\n",
    "\n",
    "plt.plot(evap_temp_list, cop_list)\n",
    "\n",
    "# Plotting multiple lines on a single plot\n",
    "#plt.plot(x, y1, label='Sin(x)', color='b')\n",
    "#plt.plot(x, y2, label='Cos(x)', color='r', linestyle='--')\n",
    " \n",
    "# Adding labels and title\n",
    "plt.xlabel('Evaporated T [K]')\n",
    "plt.ylabel('COP')\n",
    "plt.title('COP vs Evap T')"
   ]
  },
  {
   "cell_type": "code",
   "execution_count": null,
   "id": "9c4656b5",
   "metadata": {},
   "outputs": [],
   "source": []
  }
 ],
 "metadata": {
  "kernelspec": {
   "display_name": "Python 3",
   "language": "python",
   "name": "python3"
  },
  "language_info": {
   "codemirror_mode": {
    "name": "ipython",
    "version": 3
   },
   "file_extension": ".py",
   "mimetype": "text/x-python",
   "name": "python",
   "nbconvert_exporter": "python",
   "pygments_lexer": "ipython3",
   "version": "3.11.5"
  }
 },
 "nbformat": 4,
 "nbformat_minor": 5
}
