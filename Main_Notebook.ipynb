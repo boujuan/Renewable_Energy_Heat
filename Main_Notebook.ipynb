{
 "cells": [
  {
   "cell_type": "markdown",
   "id": "41affc6e",
   "metadata": {},
   "source": [
    "# Renewable Energy Heat\n",
    "\n",
    "- Juan Manuel Boullosa Novo\n",
    "- Alberto Jimenez Haro\n",
    "- Emre ..."
   ]
  },
  {
   "cell_type": "code",
   "execution_count": null,
   "id": "40048ee6-f2f2-40be-ac13-59e336f391ed",
   "metadata": {},
   "outputs": [],
   "source": [
    "from CoolProp.CoolProp import PropsSI\n",
    "import numpy as np\n",
    "import pandas as pd\n",
    "import matplotlib.pyplot as plt\n",
    "from matplotlib import cm\n",
    "import _roomClass as rc # Custom class required ./_roomClass.py"
   ]
  },
  {
   "cell_type": "markdown",
   "id": "0e0afc23",
   "metadata": {},
   "source": [
    "Function definition for heating demand"
   ]
  },
  {
   "cell_type": "code",
   "execution_count": null,
   "id": "c6355267",
   "metadata": {},
   "outputs": [],
   "source": [
    "def calculate_heating_demand(location, coldRoom):\n",
    "    heating_demand = location.calculate_yearly_heating_demand(coldRoom)\n",
    "    rc.Plotter.plot_heating_demand(location.months, heating_demand, location.average_temperatures)\n",
    "    print(\"Heating demand for each month:\")\n",
    "    for month, demand in zip(location.months, heating_demand):\n",
    "        print(f\"{month}: {demand:.2f} kW\")\n",
    "    print(f\"Average heating demand: {np.mean(heating_demand):.2f} kW\")\n",
    "    return heating_demand"
   ]
  },
  {
   "cell_type": "markdown",
   "id": "f4d69be8",
   "metadata": {},
   "source": [
    "We set the parameters for the location and the room and create the instances."
   ]
  },
  {
   "cell_type": "code",
   "execution_count": null,
   "id": "084efe2d",
   "metadata": {},
   "outputs": [],
   "source": [
    "average_temperature_hamburg = [1.7, 2, 4.5, 9.1, 13.3, 16.3, 18.5, 18.1, 14.9, 10.5, 6, 3] # in °C [Source: https://en.climate-data.org/europe/germany/hamburg/hamburg-69/]\n",
    "desired_freezer_temperature = -18 # in °C\n",
    "coldroom_dimensions = [4, 3, 2] # in meters\n",
    "floor_material = \"Concrete\"\n",
    "wall_material = \"Polyurethane foam\"\n",
    "ceiling_material = \"Polyurethane foam\"\n",
    "\n",
    "coldRoom = rc.Room(coldroom_dimensions, floor_material, wall_material, ceiling_material, 50, 15, 20, desired_freezer_temperature)    \n",
    "hamburg = rc.ClimateData(average_temperature_hamburg)"
   ]
  },
  {
   "cell_type": "markdown",
   "id": "a9af6ca8",
   "metadata": {},
   "source": [
    "We calculate the yearly heating demand"
   ]
  },
  {
   "cell_type": "code",
   "execution_count": null,
   "id": "4e836dc4",
   "metadata": {},
   "outputs": [],
   "source": [
    "yearly_heating_demand = calculate_heating_demand(hamburg, coldRoom)"
   ]
  },
  {
   "cell_type": "markdown",
   "id": "1136b75d",
   "metadata": {},
   "source": [
    "Let's create a function that calculates the evaporators heat, the power and the cop:"
   ]
  },
  {
   "cell_type": "code",
   "execution_count": null,
   "id": "5bdb7c79",
   "metadata": {},
   "outputs": [],
   "source": [
    "def cop_and_heat_calculations(fluid, temp_2, temp_4, efficiency_compressor, heat_evap):\n",
    "    s_2 = PropsSI(\"S\", \"T\", temp_2, \"Q\", 1, fluid)\n",
    "    h_2 = PropsSI(\"H\", \"T\", temp_2, \"Q\", 1, fluid)\n",
    "    press_2 = PropsSI(\"P\", \"T\", temp_2, \"Q\", 1, fluid)\n",
    "    press_4 = PropsSI(\"P\", \"T\", temp_4, \"Q\", 0, fluid)\n",
    "    press_3 = press_4 # pressure remains same after compressor / before expansion\n",
    "\n",
    "    h_3s = PropsSI(\"H\", \"S\", s_2, \"P\", press_3, fluid)\n",
    "    h_3 = h_2 + (h_3s - h_2) / efficiency_compressor # enthalpy considering compressor efficiency\n",
    "\n",
    "    h_4 = PropsSI(\"H\", \"T\", temp_4, \"Q\", 0, fluid)\n",
    "    h_1 = h_4 # enthalpy remains constant in expansion. refer to ph graph\n",
    "    press_1 = press_2 # pressure remains constant in evaporation.\n",
    "\n",
    "    # no calculamos s_1, s_3, s_4, t_1, t_3\n",
    "\n",
    "    m = heat_evap / abs(h_2 - h_1) # mass flow rate kg/s. Are these enthalpies correct? or should we get h_4, h_3\n",
    "    power = m * abs(h_3 - h_2) # compressor power\n",
    "    cop = abs(heat_evap) / power\n",
    "    heat_cond = abs(heat_evap) - power\n",
    "\n",
    "    cop_carnot = temp_2 / (temp_2 - temp_4)\n",
    "    efficiency_hp = cop / cop_carnot\n",
    "    \n",
    "    return m, power, cop, heat_cond, cop_carnot, efficiency_hp\n",
    "\n",
    "def seasonal_cop_and_heat_calculations(refr_fluid, evap_temp, cond_temp_list, efficiency_compressor, heat_evap):"
   ]
  },
  {
   "cell_type": "markdown",
   "id": "1fef964a",
   "metadata": {},
   "source": [
    "Let's select some of the necessary parameters for our study:"
   ]
  },
  {
   "cell_type": "code",
   "execution_count": null,
   "id": "42c18578",
   "metadata": {},
   "outputs": [],
   "source": [
    "# outside_temp = 15 + 273.15 # Average temperature in Hamburg in Kelvin\n",
    "# desired_temp = -18 + 273.15 # C Desired temperatures\n",
    "\n",
    "cond_temp = outside_temp + 20\n",
    "evap_temp = desired_temp - 10\n",
    "\n",
    "evap_temp_list = np.arange(evap_temp - 10 , evap_temp + 10 , 2)\n",
    "cond_temp_list = np.arange(cond_temp - 10 , cond_temp + 10 , 2)\n",
    "\n",
    "refr_fluid = \"R290\"\n",
    "efficiency_compressor = 0.8 # Efficiency assumed to be 80%\n",
    "heat_evap = 2e5 # Nominal heat power (W)"
   ]
  },
  {
   "cell_type": "markdown",
   "id": "d39a8273",
   "metadata": {},
   "source": [
    "Let's calculate and plot the COP for different evaporation and condensation temperatures:"
   ]
  },
  {
   "cell_type": "code",
   "execution_count": null,
   "id": "40ef9ce8",
   "metadata": {},
   "outputs": [],
   "source": [
    "# Calculating COP vs Condensator Temps:\n",
    "mass_sec, pow, cop, heat_condensator, _, _ = cop_and_heat_calculations(\n",
    "    refr_fluid, evap_temp, cond_temp_list, efficiency_compressor, heat_evap\n",
    ")\n",
    "\n",
    "# Plotting results condensator changing temps:\n",
    "plt.plot(cond_temp_list - 273.15, cop)\n",
    "plt.xlabel('Condensator T [°C]')\n",
    "plt.ylabel('COP')\n",
    "plt.title('COP vs Condensator T')"
   ]
  },
  {
   "cell_type": "code",
   "execution_count": null,
   "id": "aa2dfbf3",
   "metadata": {},
   "outputs": [],
   "source": [
    "# Calculating COP vs Evaporator Temps:\n",
    "mass_sec_ev, pow_ev, cop_ev, heat_condensator_ev, _, _ = cop_and_heat_calculations(\n",
    "    refr_fluid, evap_temp_list, cond_temp, efficiency_compressor, heat_evap\n",
    ")\n",
    "\n",
    "# Plotting results evaporator changing temps:\n",
    "plt.plot(evap_temp_list - 273.15, cop_ev)\n",
    "plt.xlabel('Evaporator T [°C]')\n",
    "plt.ylabel('COP')\n",
    "plt.title('COP vs Evaporator T')"
   ]
  },
  {
   "cell_type": "markdown",
   "id": "8b29f6c4",
   "metadata": {},
   "source": [
    "Now, let's plot both the condensated T° and the evaporated T° in the same 3D graph to compare results:"
   ]
  },
  {
   "cell_type": "code",
   "execution_count": null,
   "id": "a0b2d7fb",
   "metadata": {},
   "outputs": [],
   "source": [
    "param_cop = pd.DataFrame(\n",
    "    index=evap_temp_list, \n",
    "    columns=cond_temp_list\n",
    ")\n",
    "\n",
    "for ev_temp in evap_temp_list:\n",
    "    _, _, cop, _, _, _ = cop_and_heat_calculations(\n",
    "        refr_fluid, \n",
    "        ev_temp, \n",
    "        cond_temp_list, \n",
    "        efficiency_compressor, \n",
    "        heat_evap\n",
    "    )\n",
    "    param_cop.loc[ev_temp] = cop\n",
    "\n",
    "param_cop\n",
    "\n",
    "# Plot 3D Figure:\n",
    "fig, ax = plt.subplots(1, figsize=(12, 7.5), subplot_kw={\"projection\": \"3d\"})\n",
    "\n",
    "X, Y = np.meshgrid(cond_temp_list - 273.15, evap_temp_list - 273.15)\n",
    "\n",
    "surf = ax.plot_surface(X, Y, param_cop.values, cmap=cm.coolwarm, linewidth=0, antialiased=False)\n",
    "\n",
    "ax.set_xlabel(\"Condensator temperature [°C]\")\n",
    "ax.set_ylabel(\"Evaporator temperature [°C]\")\n",
    "ax.set_zlabel(\"COP\")\n",
    "ax.view_init(elev=30, azim=225)\n",
    "ax.set_box_aspect(aspect=None, zoom=0.9)\n",
    "fig.colorbar(surf, shrink=0.5, aspect=15)\n",
    "plt.tight_layout()"
   ]
  },
  {
   "cell_type": "markdown",
   "id": "da4e1f9f",
   "metadata": {},
   "source": [
    "Let's try plot the P-H Diagram:"
   ]
  },
  {
   "cell_type": "code",
   "execution_count": null,
   "id": "49906f6b",
   "metadata": {},
   "outputs": [],
   "source": [
    "\n",
    "def press_and_enthalpy_calc(fluid, temp_2, temp_4, efficiency_compressor, heat_evap):\n",
    "    s_2 = PropsSI(\"S\", \"T\", temp_2, \"Q\", 1, fluid)\n",
    "    h_2 = PropsSI(\"H\", \"T\", temp_2, \"Q\", 1, fluid)\n",
    "    press_2 = PropsSI(\"P\", \"T\", temp_2, \"Q\", 1, fluid)\n",
    "    press_4 = PropsSI(\"P\", \"T\", temp_4, \"Q\", 0, fluid)\n",
    "    press_3 = press_4 # pressure remains same after compressor / before expansion\n",
    "\n",
    "    h_3s = PropsSI(\"H\", \"S\", s_2, \"P\", press_3, fluid)\n",
    "    h_3 = h_2 + (h_3s - h_2) / efficiency_compressor # enthalpy considering compressor efficiency\n",
    "\n",
    "    h_4 = PropsSI(\"H\", \"T\", temp_4, \"Q\", 0, fluid)\n",
    "    h_1 = h_4 # enthalpy remains constant in expansion. refer to ph graph\n",
    "    press_1 = press_2 # pressure remains constant in evaporation.\n",
    "\n",
    "    # no calculamos s_1, s_3, s_4, t_1, t_3\n",
    "\n",
    "    m = heat_evap / abs(h_2 - h_1) # mass flow rate kg/s. Are these enthalpies correct? or should we get h_4, h_3\n",
    "    power = m * abs(h_3 - h_2) # compressor power\n",
    "    cop = abs(heat_evap) / power\n",
    "    heat_cond = abs(heat_evap) - power\n",
    "    \n",
    "    return h_1, h_2, h_3, h_4, press_1, press_2, press_3, press_4\n",
    "\n",
    "h_1, h_2, h_3, h_4, press_1, press_2, press_3, press_4 = press_and_enthalpy_calc(\n",
    "    refr_fluid, evap_temp, cond_temp, efficiency_compressor, heat_evap\n",
    ")\n",
    "\n",
    "p_range = np.geomspace(PropsSI(\"P\", \"T\", 273.15 -30, \"Q\", 0, refr_fluid), PropsSI(\"PCRIT\", refr_fluid))\n",
    "boiling_line = PropsSI(\"H\", \"P\", p_range, \"Q\", 0, refr_fluid) / 1e3\n",
    "dew_line = PropsSI(\"H\", \"P\", p_range, \"Q\", 1, refr_fluid) / 1e3\n",
    "\n",
    "fig, ax = plt.subplots(1, figsize=(12, 6))\n",
    "\n",
    "ax.set_yscale(\"log\")\n",
    "ax.plot(boiling_line, p_range, color=\"#000\")\n",
    "ax.plot(dew_line, p_range, color=\"#000\")\n",
    "\n",
    "ax.scatter([h / 1e3 for h in [h_1, h_2, h_3, h_4]], [press_1, press_2, press_3, press_4])\n",
    "ax.plot([h / 1e3 for h in [h_1, h_2, h_3, h_4, h_1]], [press_1, press_2, press_3, press_4, press_1])\n",
    "\n",
    "ax.set_ylabel(\"pressure in Pa\")\n",
    "ax.set_xlabel(\"enthalpy in kJ/kg\")\n",
    "\n",
    "_x_lims = ax.get_xlim()\n",
    "_y_lims = ax.get_ylim()\n",
    "\n",
    "\n",
    "plt.tight_layout()"
   ]
  }
 ],
 "metadata": {
  "kernelspec": {
   "display_name": "thermal-sys",
   "language": "python",
   "name": "python3"
  },
  "language_info": {
   "codemirror_mode": {
    "name": "ipython",
    "version": 3
   },
   "file_extension": ".py",
   "mimetype": "text/x-python",
   "name": "python",
   "nbconvert_exporter": "python",
   "pygments_lexer": "ipython3",
   "version": "3.11.5"
  }
 },
 "nbformat": 4,
 "nbformat_minor": 5
}
