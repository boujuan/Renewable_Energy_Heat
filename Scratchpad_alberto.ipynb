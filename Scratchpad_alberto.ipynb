{
 "cells": [
  {
   "cell_type": "code",
   "execution_count": null,
   "id": "40048ee6-f2f2-40be-ac13-59e336f391ed",
   "metadata": {},
   "outputs": [],
   "source": [
    "from CoolProp.CoolProp import PropsSI\n",
    "import numpy as np\n",
    "import pandas as pd\n",
    "import matplotlib.pyplot as plt\n",
    "from matplotlib import cm"
   ]
  },
  {
   "cell_type": "code",
   "execution_count": null,
   "id": "c6355267",
   "metadata": {},
   "outputs": [],
   "source": [
    "def heat_power_demand(thermal_cond, thickness, insulator_area, desired_temperature, unpowered_temperature):\n",
    "    heat_transfer_coeff = thermal_cond / thickness # U = k/L\n",
    "    delta_temperature = desired_temperature - unpowered_temperature\n",
    "    heat_demand = heat_transfer_coeff * insulator_area * delta_temperature\n",
    "    return heat_demand\n",
    "\n",
    "thermal_cond_material = {\n",
    "    \"Polyurethane Foam\":0.022,\n",
    "    \"Reinforced concrete\":2.3,\n",
    "    \"Concrete\":0.11\n",
    "}\n",
    "\n",
    "room_size = [3,2,2] # m x,y,z\n",
    "outside_temp = 15 + 273.15 # C\n",
    "desired_temp = -10 + 273.15 # C\n",
    "wall_thickness = 15 # cm\n",
    "floor_thickness = 100 # cm\n",
    "\n",
    "walls_area = room_size[0]*room_size[2]*2 + room_size[1]*room_size[2]\n",
    "floor_area = room_size[0]*room_size[1]*2\n",
    "total_area = walls_area + floor_area # m^2\n",
    "\n",
    "hpd = heat_power_demand(thermal_cond_material[\"Polyurethane Foam\"], wall_thickness/100, total_area, desired_temp, outside_temp)\n",
    "print(f\"Heat power demand: {hpd} kW\")"
   ]
  },
  {
   "cell_type": "markdown",
   "id": "54ab27ea",
   "metadata": {},
   "source": [
    "Let's create a function that calculates the evaporators heat, the power and the cop:"
   ]
  },
  {
   "cell_type": "code",
   "execution_count": null,
   "id": "5bdb7c79",
   "metadata": {},
   "outputs": [],
   "source": [
    "def cop_and_heat_calculations(fluid, temp_2, temp_4, efficiency_compressor, heat_evap):\n",
    "    s_2 = PropsSI(\"S\", \"T\", temp_2, \"Q\", 1, fluid)\n",
    "    h_2 = PropsSI(\"H\", \"T\", temp_2, \"Q\", 1, fluid)\n",
    "    press_2 = PropsSI(\"P\", \"T\", temp_2, \"Q\", 1, fluid)\n",
    "    press_4 = PropsSI(\"P\", \"T\", temp_4, \"Q\", 0, fluid)\n",
    "    press_3 = press_4 # pressure remains same after compressor / before expansion\n",
    "\n",
    "    h_3s = PropsSI(\"H\", \"S\", s_2, \"P\", press_3, fluid)\n",
    "    h_3 = h_2 + (h_3s - h_2) / efficiency_compressor # enthalpy considering compressor efficiency\n",
    "\n",
    "    h_4 = PropsSI(\"H\", \"T\", temp_4, \"Q\", 0, fluid)\n",
    "    h_1 = h_4 # enthalpy remains constant in expansion. refer to ph graph\n",
    "    press_1 = press_2 # pressure remains constant in evaporation.\n",
    "\n",
    "    # no calculamos s_1, s_3, s_4, t_1, t_3\n",
    "\n",
    "    m = heat_evap / abs(h_2 - h_1) # mass flow rate kg/s. Are these enthalpies correct? or should we get h_4, h_3\n",
    "    power = m * abs(h_3 - h_2) # compressor power\n",
    "    cop = abs(heat_evap) / power\n",
    "    heat_cond = abs(heat_evap) - power\n",
    "    \n",
    "    return m, power, cop, heat_cond\n"
   ]
  },
  {
   "cell_type": "markdown",
   "id": "1fef964a",
   "metadata": {},
   "source": [
    "Let's select some of the necessary parameters for our study:"
   ]
  },
  {
   "cell_type": "code",
   "execution_count": null,
   "id": "42c18578",
   "metadata": {},
   "outputs": [],
   "source": [
    "outside_temp = 15 + 273.15 # C\n",
    "desired_temp = -10 + 273.15 # C\n",
    "\n",
    "cond_temp = outside_temp + 20\n",
    "evap_temp = desired_temp - 10\n",
    "\n",
    "evap_temp_list = np.arange(evap_temp - 10 , evap_temp + 10 , 2)\n",
    "cond_temp_list = np.arange(cond_temp - 10 , cond_temp + 10 , 2)\n",
    "\n",
    "refr_fluid = \"R290\"\n",
    "efficiency_compressor = 0.8 # Efficiency assumed to be 80%\n",
    "heat_evap = 2e5 # Nominal heat power (W)"
   ]
  },
  {
   "cell_type": "markdown",
   "id": "d39a8273",
   "metadata": {},
   "source": [
    "Let's calculate and plot the COP for different evaporation and condensation temperatures:"
   ]
  },
  {
   "cell_type": "code",
   "execution_count": null,
   "id": "40ef9ce8",
   "metadata": {},
   "outputs": [],
   "source": [
    "# Calculating COP vs Condensated Temps:\n",
    "mass_sec, pow, cop, heat_condensator = cop_and_heat_calculations(\n",
    "    refr_fluid, evap_temp, cond_temp_list, efficiency_compressor, heat_evap\n",
    ")\n",
    "mass_sec\n",
    "pow\n",
    "cop\n",
    "heat_condensator\n",
    "\n",
    "# Plotting results condensator changing temps:\n",
    "plt.plot(cond_temp_list, cop)\n",
    "plt.xlabel('Condensated T [K]')\n",
    "plt.ylabel('COP')\n",
    "plt.title('COP vs Condensated T')"
   ]
  },
  {
   "cell_type": "code",
   "execution_count": null,
   "id": "aa2dfbf3",
   "metadata": {},
   "outputs": [],
   "source": [
    "# Calculating COP vs Evaporator Temps:\n",
    "mass_sec_ev, pow_ev, cop_ev, heat_condensator_ev = cop_and_heat_calculations(\n",
    "    refr_fluid, evap_temp_list, cond_temp, efficiency_compressor, heat_evap\n",
    ")\n",
    "mass_sec_ev\n",
    "pow_ev\n",
    "cop_ev\n",
    "heat_condensator_ev\n",
    "\n",
    "# Plotting results evaporator changing temps:\n",
    "plt.plot(evap_temp_list, cop_ev)\n",
    "plt.xlabel('Evaporator T [K]')\n",
    "plt.ylabel('COP')\n",
    "plt.title('COP vs Evaporator T')"
   ]
  },
  {
   "cell_type": "markdown",
   "id": "8b29f6c4",
   "metadata": {},
   "source": [
    "Now, let's plot both the condensated T° and the evaporated T° in the same 3D graph to compare results:"
   ]
  },
  {
   "cell_type": "code",
   "execution_count": null,
   "id": "a0b2d7fb",
   "metadata": {},
   "outputs": [],
   "source": [
    "param_cop = pd.DataFrame(\n",
    "    index=evap_temp_list, \n",
    "    columns=cond_temp_list\n",
    ")\n",
    "\n",
    "for ev_temp in evap_temp_list:\n",
    "    _, _, cop, _ = run_forward(\n",
    "        refr_fluid, \n",
    "        ev_temp, \n",
    "        cond_temp_list, \n",
    "        efficiency_compressor, \n",
    "        heat_evap\n",
    "    )\n",
    "    param_cop.loc[ev_temp] = cop\n",
    "\n",
    "param_cop\n",
    "\n",
    "# Plot 3D Figure:\n",
    "fig, ax = plt.subplots(1, figsize=(12, 7.5), subplot_kw={\"projection\": \"3d\"})\n",
    "\n",
    "X, Y = np.meshgrid(cond_temp_list, evap_temp_list)\n",
    "\n",
    "surf = ax.plot_surface(X, Y, param_cop.values, cmap=cm.coolwarm, linewidth=0, antialiased=False)\n",
    "\n",
    "ax.set_xlabel(\"Condensation temperature in °C\")\n",
    "ax.set_ylabel(\"Evaporation temperature in °C\")\n",
    "ax.set_zlabel(\"COP\")\n",
    "ax.view_init(elev=30, azim=225)\n",
    "ax.set_box_aspect(aspect=None, zoom=0.9)\n",
    "fig.colorbar(surf, shrink=0.5, aspect=15)\n",
    "plt.tight_layout()"
   ]
  }
 ],
 "metadata": {
  "kernelspec": {
   "display_name": "thermal-sys",
   "language": "python",
   "name": "python3"
  },
  "language_info": {
   "codemirror_mode": {
    "name": "ipython",
    "version": 3
   },
   "file_extension": ".py",
   "mimetype": "text/x-python",
   "name": "python",
   "nbconvert_exporter": "python",
   "pygments_lexer": "ipython3",
   "version": "3.11.5"
  }
 },
 "nbformat": 4,
 "nbformat_minor": 5
}
